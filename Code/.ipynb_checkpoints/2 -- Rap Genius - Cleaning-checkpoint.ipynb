{
 "cells": [
  {
   "cell_type": "markdown",
   "metadata": {
    "toc": true
   },
   "source": [
    "<h1>Table of Contents<span class=\"tocSkip\"></span></h1>\n",
    "<div class=\"toc\"><ul class=\"toc-item\"><li><span><a href=\"#Synopsis\" data-toc-modified-id=\"Synopsis-1\"><span class=\"toc-item-num\">1&nbsp;&nbsp;</span>Synopsis</a></span></li><li><span><a href=\"#Importing-Libraries\" data-toc-modified-id=\"Importing-Libraries-2\"><span class=\"toc-item-num\">2&nbsp;&nbsp;</span>Importing Libraries</a></span></li><li><span><a href=\"#Read-in-data\" data-toc-modified-id=\"Read-in-data-3\"><span class=\"toc-item-num\">3&nbsp;&nbsp;</span>Read in data</a></span></li><li><span><a href=\"#Cleaning\" data-toc-modified-id=\"Cleaning-4\"><span class=\"toc-item-num\">4&nbsp;&nbsp;</span>Cleaning</a></span><ul class=\"toc-item\"><li><ul class=\"toc-item\"><li><span><a href=\"#Corpus\" data-toc-modified-id=\"Corpus-4.0.1\"><span class=\"toc-item-num\">4.0.1&nbsp;&nbsp;</span>Corpus</a></span></li><li><span><a href=\"#Countvectorizer\" data-toc-modified-id=\"Countvectorizer-4.0.2\"><span class=\"toc-item-num\">4.0.2&nbsp;&nbsp;</span>Countvectorizer</a></span></li></ul></li></ul></li></ul></div>"
   ]
  },
  {
   "cell_type": "markdown",
   "metadata": {},
   "source": [
    "# Synopsis\n",
    "\n",
    "Now that we have to lyrics in a dataframe with each artist as the index, we can begin to pre-process the data for Exploratory Data Analysis and Modeling. Problem is there are characters that are not ideal to our analysis, could end up giving us a terrible output in the end. So we will spend time cleaning the data to put it in the right form for analysis and modeling. This includes lowering, removing punctuation, section headers, indicators of line spacing etc. "
   ]
  },
  {
   "cell_type": "markdown",
   "metadata": {},
   "source": [
    "# Importing Libraries"
   ]
  },
  {
   "cell_type": "code",
   "execution_count": 2,
   "metadata": {
    "ExecuteTime": {
     "end_time": "2019-05-31T15:08:20.001859Z",
     "start_time": "2019-05-31T15:08:19.996784Z"
    }
   },
   "outputs": [],
   "source": [
    "# !pip install -U contractions\n",
    "# !pip install -U inflect\n",
    "# !pip install -U nltk"
   ]
  },
  {
   "cell_type": "code",
   "execution_count": 3,
   "metadata": {
    "ExecuteTime": {
     "end_time": "2019-05-31T15:08:20.032286Z",
     "start_time": "2019-05-31T15:08:20.016908Z"
    },
    "init_cell": true,
    "scrolled": true
   },
   "outputs": [
    {
     "name": "stderr",
     "output_type": "stream",
     "text": [
      "[nltk_data] Downloading package punkt to\n",
      "[nltk_data]     C:\\Users\\Vonn\\AppData\\Roaming\\nltk_data...\n",
      "[nltk_data]   Package punkt is already up-to-date!\n",
      "[nltk_data] Downloading package stopwords to\n",
      "[nltk_data]     C:\\Users\\Vonn\\AppData\\Roaming\\nltk_data...\n",
      "[nltk_data]   Package stopwords is already up-to-date!\n",
      "[nltk_data] Downloading package wordnet to\n",
      "[nltk_data]     C:\\Users\\Vonn\\AppData\\Roaming\\nltk_data...\n",
      "[nltk_data]   Package wordnet is already up-to-date!\n"
     ]
    }
   ],
   "source": [
    "# Read in necessary modules\n",
    "\n",
    "import re, string, unicodedata\n",
    "import nltk\n",
    "import contractions\n",
    "import codecs\n",
    "import inflect\n",
    "nltk.download('punkt')\n",
    "nltk.download('stopwords')\n",
    "nltk.download('wordnet')\n",
    "from nltk import word_tokenize, sent_tokenize\n",
    "import pandas as pd\n",
    "import numpy as np\n",
    "from sklearn.feature_extraction.text import CountVectorizer\n",
    "\n",
    "from nltk.corpus import stopwords\n",
    "from nltk.stem import WordNetLemmatizer, SnowballStemmer\n",
    "\n",
    "import pickle\n",
    "\n",
    "# choose how much of dictionaries/list to print oabsut\n",
    "\n",
    "from IPython.lib.pretty import pprint\n",
    "\n",
    "# importing warnings to turn off future warnings\n",
    "\n",
    "import warnings\n",
    "warnings.simplefilter(action='ignore')"
   ]
  },
  {
   "cell_type": "markdown",
   "metadata": {},
   "source": [
    "# Read in data"
   ]
  },
  {
   "cell_type": "code",
   "execution_count": 4,
   "metadata": {
    "ExecuteTime": {
     "end_time": "2019-05-31T15:08:20.108508Z",
     "start_time": "2019-05-31T15:08:20.039706Z"
    }
   },
   "outputs": [
    {
     "data": {
      "text/html": [
       "<div>\n",
       "<style scoped>\n",
       "    .dataframe tbody tr th:only-of-type {\n",
       "        vertical-align: middle;\n",
       "    }\n",
       "\n",
       "    .dataframe tbody tr th {\n",
       "        vertical-align: top;\n",
       "    }\n",
       "\n",
       "    .dataframe thead th {\n",
       "        text-align: right;\n",
       "    }\n",
       "</style>\n",
       "<table border=\"1\" class=\"dataframe\">\n",
       "  <thead>\n",
       "    <tr style=\"text-align: right;\">\n",
       "      <th></th>\n",
       "      <th>Lyrics</th>\n",
       "    </tr>\n",
       "    <tr>\n",
       "      <th>Artist</th>\n",
       "      <th></th>\n",
       "    </tr>\n",
       "  </thead>\n",
       "  <tbody>\n",
       "    <tr>\n",
       "      <th>Drake</th>\n",
       "      <td>[Produced by Boi-1da, Frank Dukes, Noah \"40\" S...</td>\n",
       "    </tr>\n",
       "    <tr>\n",
       "      <th>Jayz</th>\n",
       "      <td>[Intro: Hannah Williams]\\nDo I find it so hard...</td>\n",
       "    </tr>\n",
       "    <tr>\n",
       "      <th>Nas</th>\n",
       "      <td>[Produced by Ron Browz]\\n\\n[Intro]\\nFuck Jay Z...</td>\n",
       "    </tr>\n",
       "    <tr>\n",
       "      <th>Eminem</th>\n",
       "      <td>[Verse 1]\\nNow this shit's about to kick off, ...</td>\n",
       "    </tr>\n",
       "    <tr>\n",
       "      <th>Future</th>\n",
       "      <td>[Intro]\\nDJ Esco-Moe City, the coolest DJ on t...</td>\n",
       "    </tr>\n",
       "    <tr>\n",
       "      <th>KanyeWest</th>\n",
       "      <td>[Produced By Daft Punk &amp; Kanye West]\\n\\n[Verse...</td>\n",
       "    </tr>\n",
       "  </tbody>\n",
       "</table>\n",
       "</div>"
      ],
      "text/plain": [
       "                                                      Lyrics\n",
       "Artist                                                      \n",
       "Drake      [Produced by Boi-1da, Frank Dukes, Noah \"40\" S...\n",
       "Jayz       [Intro: Hannah Williams]\\nDo I find it so hard...\n",
       "Nas        [Produced by Ron Browz]\\n\\n[Intro]\\nFuck Jay Z...\n",
       "Eminem     [Verse 1]\\nNow this shit's about to kick off, ...\n",
       "Future     [Intro]\\nDJ Esco-Moe City, the coolest DJ on t...\n",
       "KanyeWest  [Produced By Daft Punk & Kanye West]\\n\\n[Verse..."
      ]
     },
     "execution_count": 4,
     "metadata": {},
     "output_type": "execute_result"
    }
   ],
   "source": [
    "# Read in data from our Raw Dataframe pickle file\n",
    "\n",
    "with codecs.open('../Datasets/Pickled_Files/Raw_Dataframe','rb') as f:\n",
    "    df_1 = pickle.load(f)\n",
    "\n",
    "df_1.set_index('Artist',inplace = True)\n",
    "df_1"
   ]
  },
  {
   "cell_type": "code",
   "execution_count": 5,
   "metadata": {
    "ExecuteTime": {
     "end_time": "2019-05-31T15:08:20.120477Z",
     "start_time": "2019-05-31T15:08:20.112496Z"
    },
    "scrolled": true
   },
   "outputs": [
    {
     "data": {
      "text/plain": [
       "'[Produced by Boi-1da, Frank Dukes, Noah \"40\" Shebib, & Nineteen85]\\n\\n[Part I: 0 to 100]\\n\\n[Verse 1]\\nFu'"
      ]
     },
     "execution_count": 5,
     "metadata": {},
     "output_type": "execute_result"
    }
   ],
   "source": [
    "df_1.loc['Drake'][0][0:100]"
   ]
  },
  {
   "cell_type": "markdown",
   "metadata": {},
   "source": [
    "# Cleaning"
   ]
  },
  {
   "cell_type": "code",
   "execution_count": 6,
   "metadata": {
    "ExecuteTime": {
     "end_time": "2019-05-31T15:08:20.136903Z",
     "start_time": "2019-05-31T15:08:20.124745Z"
    },
    "code_folding": []
   },
   "outputs": [],
   "source": [
    "\n",
    "def first_cleaning_session():\n",
    "    \"\"\"\n",
    "    I am creating a function to do the first cleaning session.\n",
    "    There are simple things that will show up in any version of the Lyrics\n",
    "    that I obtain. This function will handle it before moving on to harder\n",
    "    cleaning session regarding lemmatizing, stemming, or profanity.\n",
    "    \"\"\"\n",
    "    index = list(df_1.index.values)\n",
    "    rapper = df_1.Lyrics\n",
    "    \n",
    "    for artist_ in index:\n",
    "        # Lower text\n",
    "        try:\n",
    "            rapper.loc[artist_] = rapper.loc[artist_].lower();\n",
    "        except:\n",
    "            pass\n",
    "        # Remove punctuation\n",
    "        try:\n",
    "            rapper.loc[artist_] = re.sub(\"[^\\w\\d\\s]+\", \"\", rapper.loc[artist_])\n",
    "        except:\n",
    "            pass\n",
    "        # Split text\n",
    "        try:\n",
    "            rapper.loc[artist_] = rapper.loc[artist_].split(\"\\n\");\n",
    "        except:\n",
    "            pass\n",
    "        # remove producer\n",
    "        try:\n",
    "            rapper.loc[artist_] = [line for line in df_1.loc[artist_][0] if ('[produced' not in line) == True]\n",
    "        except:\n",
    "            pass\n",
    "        # remove blank strings\n",
    "        try:\n",
    "            rapper.loc[artist_] = list(filter(None, df_1.loc[artist_][0]))\n",
    "        except:\n",
    "            pass\n",
    "        "
   ]
  },
  {
   "cell_type": "code",
   "execution_count": 7,
   "metadata": {
    "ExecuteTime": {
     "end_time": "2019-05-31T15:08:20.206806Z",
     "start_time": "2019-05-31T15:08:20.139893Z"
    }
   },
   "outputs": [],
   "source": [
    "# apply the first cleaning session to the dataframe\n",
    "\n",
    "first_cleaning_session()"
   ]
  },
  {
   "cell_type": "code",
   "execution_count": 8,
   "metadata": {
    "ExecuteTime": {
     "end_time": "2019-05-31T15:08:20.234046Z",
     "start_time": "2019-05-31T15:08:20.208887Z"
    }
   },
   "outputs": [
    {
     "data": {
      "text/html": [
       "<div>\n",
       "<style scoped>\n",
       "    .dataframe tbody tr th:only-of-type {\n",
       "        vertical-align: middle;\n",
       "    }\n",
       "\n",
       "    .dataframe tbody tr th {\n",
       "        vertical-align: top;\n",
       "    }\n",
       "\n",
       "    .dataframe thead th {\n",
       "        text-align: right;\n",
       "    }\n",
       "</style>\n",
       "<table border=\"1\" class=\"dataframe\">\n",
       "  <thead>\n",
       "    <tr style=\"text-align: right;\">\n",
       "      <th></th>\n",
       "      <th>Lyrics</th>\n",
       "    </tr>\n",
       "    <tr>\n",
       "      <th>Artist</th>\n",
       "      <th></th>\n",
       "    </tr>\n",
       "  </thead>\n",
       "  <tbody>\n",
       "    <tr>\n",
       "      <th>Drake</th>\n",
       "      <td>[produced by boi1da frank dukes noah 40 shebib...</td>\n",
       "    </tr>\n",
       "    <tr>\n",
       "      <th>Jayz</th>\n",
       "      <td>[intro hannah williams, do i find it so hard, ...</td>\n",
       "    </tr>\n",
       "    <tr>\n",
       "      <th>Nas</th>\n",
       "      <td>[produced by ron browz, intro, fuck jay z, wha...</td>\n",
       "    </tr>\n",
       "    <tr>\n",
       "      <th>Eminem</th>\n",
       "      <td>[verse 1, now this shits about to kick off thi...</td>\n",
       "    </tr>\n",
       "    <tr>\n",
       "      <th>Future</th>\n",
       "      <td>[intro, dj escomoe city the coolest dj on the ...</td>\n",
       "    </tr>\n",
       "    <tr>\n",
       "      <th>KanyeWest</th>\n",
       "      <td>[produced by daft punk  kanye west, verse 1, f...</td>\n",
       "    </tr>\n",
       "  </tbody>\n",
       "</table>\n",
       "</div>"
      ],
      "text/plain": [
       "                                                      Lyrics\n",
       "Artist                                                      \n",
       "Drake      [produced by boi1da frank dukes noah 40 shebib...\n",
       "Jayz       [intro hannah williams, do i find it so hard, ...\n",
       "Nas        [produced by ron browz, intro, fuck jay z, wha...\n",
       "Eminem     [verse 1, now this shits about to kick off thi...\n",
       "Future     [intro, dj escomoe city the coolest dj on the ...\n",
       "KanyeWest  [produced by daft punk  kanye west, verse 1, f..."
      ]
     },
     "execution_count": 8,
     "metadata": {},
     "output_type": "execute_result"
    }
   ],
   "source": [
    "# take a look to see how it turned out...\n",
    "\n",
    "df_1"
   ]
  },
  {
   "cell_type": "markdown",
   "metadata": {},
   "source": [
    "The data frame is now in the form of a list of lyrics, each line is a new \"bar\". In the rap world a bar is just another saying a verse. \"A bar is a measure of time in music, and in rap music a bar signifies a verse of the song within a 1, 2, 3, 4 count.\"\n",
    "\n",
    "Next we are going to want to take a look at the dataframe and make some other changes to the lyrics. Sometimes the cleaning doesn't catch everything so we are going to go back through and look for cases where the information is not in the way we want. Looking for the following:\n",
    "\n",
    "- Section Headers\n",
    "- Producer labels\n",
    "- Unnecessary characters and punctuation"
   ]
  },
  {
   "cell_type": "code",
   "execution_count": 9,
   "metadata": {
    "ExecuteTime": {
     "end_time": "2019-05-31T15:08:20.253607Z",
     "start_time": "2019-05-31T15:08:20.236652Z"
    }
   },
   "outputs": [
    {
     "name": "stdout",
     "output_type": "stream",
     "text": [
      "['produced by boi1da frank dukes noah 40 shebib  nineteen85',\n",
      " 'part i 0 to 100',\n",
      " 'verse 1',\n",
      " 'fuck bein on some chill shit',\n",
      " 'we go 0 to 100 nigga real quick',\n",
      " 'they be on that raptopaythebill shit',\n",
      " 'and i dont feel that shit not even a little bit',\n",
      " 'oh lord know yourself know your worth nigga',\n",
      " 'my actions been louder than my words nigga',\n",
      " 'how you so high but still so down to earth nigga',\n",
      " ...]\n"
     ]
    }
   ],
   "source": [
    "pprint(df_1.loc['Drake'][0], max_width= 0, newline='\\n', max_seq_length=10)\n",
    "# now it is a list of lyrics"
   ]
  },
  {
   "cell_type": "code",
   "execution_count": 10,
   "metadata": {
    "ExecuteTime": {
     "end_time": "2019-05-31T15:08:20.268594Z",
     "start_time": "2019-05-31T15:08:20.258582Z"
    },
    "scrolled": true
   },
   "outputs": [],
   "source": [
    "song = {}\n",
    "index = list(df_1.index.values)\n",
    "for artst in index:\n",
    "    var_1 = df_1.Lyrics.loc[artst]\n",
    "    song[artst] = []\n",
    "    s = \" \"\n",
    "    s = s.join(var_1)\n",
    "    lst = re.split('\\[(.*?)\\]', s)\n",
    "    for i in lst:\n",
    "        if \":\" in i:\n",
    "            if artst in i:\n",
    "                song[artst].append(i)\n",
    "        else:\n",
    "            song[artst].append(i)"
   ]
  },
  {
   "cell_type": "code",
   "execution_count": 11,
   "metadata": {
    "ExecuteTime": {
     "end_time": "2019-05-31T15:08:20.301577Z",
     "start_time": "2019-05-31T15:08:20.271585Z"
    }
   },
   "outputs": [
    {
     "data": {
      "text/html": [
       "<div>\n",
       "<style scoped>\n",
       "    .dataframe tbody tr th:only-of-type {\n",
       "        vertical-align: middle;\n",
       "    }\n",
       "\n",
       "    .dataframe tbody tr th {\n",
       "        vertical-align: top;\n",
       "    }\n",
       "\n",
       "    .dataframe thead th {\n",
       "        text-align: right;\n",
       "    }\n",
       "</style>\n",
       "<table border=\"1\" class=\"dataframe\">\n",
       "  <thead>\n",
       "    <tr style=\"text-align: right;\">\n",
       "      <th></th>\n",
       "      <th>Lyrics</th>\n",
       "    </tr>\n",
       "    <tr>\n",
       "      <th>Artist</th>\n",
       "      <th></th>\n",
       "    </tr>\n",
       "  </thead>\n",
       "  <tbody>\n",
       "    <tr>\n",
       "      <th>Drake</th>\n",
       "      <td>[produced by boi1da frank dukes noah 40 shebib...</td>\n",
       "    </tr>\n",
       "    <tr>\n",
       "      <th>Jayz</th>\n",
       "      <td>[intro hannah williams do i find it so hard wh...</td>\n",
       "    </tr>\n",
       "    <tr>\n",
       "      <th>Nas</th>\n",
       "      <td>[produced by ron browz intro fuck jay z whats ...</td>\n",
       "    </tr>\n",
       "    <tr>\n",
       "      <th>Eminem</th>\n",
       "      <td>[verse 1 now this shits about to kick off this...</td>\n",
       "    </tr>\n",
       "    <tr>\n",
       "      <th>Future</th>\n",
       "      <td>[intro dj escomoe city the coolest dj on the m...</td>\n",
       "    </tr>\n",
       "    <tr>\n",
       "      <th>KanyeWest</th>\n",
       "      <td>[produced by daft punk  kanye west verse 1 for...</td>\n",
       "    </tr>\n",
       "  </tbody>\n",
       "</table>\n",
       "</div>"
      ],
      "text/plain": [
       "                                                      Lyrics\n",
       "Artist                                                      \n",
       "Drake      [produced by boi1da frank dukes noah 40 shebib...\n",
       "Jayz       [intro hannah williams do i find it so hard wh...\n",
       "Nas        [produced by ron browz intro fuck jay z whats ...\n",
       "Eminem     [verse 1 now this shits about to kick off this...\n",
       "Future     [intro dj escomoe city the coolest dj on the m...\n",
       "KanyeWest  [produced by daft punk  kanye west verse 1 for..."
      ]
     },
     "execution_count": 11,
     "metadata": {},
     "output_type": "execute_result"
    }
   ],
   "source": [
    "for artst in index:\n",
    "    rapper = df_1.Lyrics\n",
    "    rapper.loc[artst] = song[artst]\n",
    "\n",
    "df_1"
   ]
  },
  {
   "cell_type": "code",
   "execution_count": 12,
   "metadata": {
    "ExecuteTime": {
     "end_time": "2019-05-31T15:08:20.311710Z",
     "start_time": "2019-05-31T15:08:20.304570Z"
    }
   },
   "outputs": [],
   "source": [
    "song = {}\n",
    "index = list(df_1.index.values)\n",
    "for artst in index:\n",
    "    song[artst] = []\n",
    "    lst = df_1.loc[artst][0]\n",
    "    for i in lst:\n",
    "        if len(i) > 20:\n",
    "            song[artst].append(i)"
   ]
  },
  {
   "cell_type": "code",
   "execution_count": 13,
   "metadata": {
    "ExecuteTime": {
     "end_time": "2019-05-31T15:08:20.349799Z",
     "start_time": "2019-05-31T15:08:20.314543Z"
    }
   },
   "outputs": [
    {
     "data": {
      "text/html": [
       "<div>\n",
       "<style scoped>\n",
       "    .dataframe tbody tr th:only-of-type {\n",
       "        vertical-align: middle;\n",
       "    }\n",
       "\n",
       "    .dataframe tbody tr th {\n",
       "        vertical-align: top;\n",
       "    }\n",
       "\n",
       "    .dataframe thead th {\n",
       "        text-align: right;\n",
       "    }\n",
       "</style>\n",
       "<table border=\"1\" class=\"dataframe\">\n",
       "  <thead>\n",
       "    <tr style=\"text-align: right;\">\n",
       "      <th></th>\n",
       "      <th>Lyrics</th>\n",
       "    </tr>\n",
       "    <tr>\n",
       "      <th>Artist</th>\n",
       "      <th></th>\n",
       "    </tr>\n",
       "  </thead>\n",
       "  <tbody>\n",
       "    <tr>\n",
       "      <th>Drake</th>\n",
       "      <td>[produced by boi1da frank dukes noah 40 shebib...</td>\n",
       "    </tr>\n",
       "    <tr>\n",
       "      <th>Jayz</th>\n",
       "      <td>[intro hannah williams do i find it so hard wh...</td>\n",
       "    </tr>\n",
       "    <tr>\n",
       "      <th>Nas</th>\n",
       "      <td>[produced by ron browz intro fuck jay z whats ...</td>\n",
       "    </tr>\n",
       "    <tr>\n",
       "      <th>Eminem</th>\n",
       "      <td>[verse 1 now this shits about to kick off this...</td>\n",
       "    </tr>\n",
       "    <tr>\n",
       "      <th>Future</th>\n",
       "      <td>[intro dj escomoe city the coolest dj on the m...</td>\n",
       "    </tr>\n",
       "    <tr>\n",
       "      <th>KanyeWest</th>\n",
       "      <td>[produced by daft punk  kanye west verse 1 for...</td>\n",
       "    </tr>\n",
       "  </tbody>\n",
       "</table>\n",
       "</div>"
      ],
      "text/plain": [
       "                                                      Lyrics\n",
       "Artist                                                      \n",
       "Drake      [produced by boi1da frank dukes noah 40 shebib...\n",
       "Jayz       [intro hannah williams do i find it so hard wh...\n",
       "Nas        [produced by ron browz intro fuck jay z whats ...\n",
       "Eminem     [verse 1 now this shits about to kick off this...\n",
       "Future     [intro dj escomoe city the coolest dj on the m...\n",
       "KanyeWest  [produced by daft punk  kanye west verse 1 for..."
      ]
     },
     "execution_count": 13,
     "metadata": {},
     "output_type": "execute_result"
    }
   ],
   "source": [
    "for artst in index:\n",
    "    rapper = df_1.Lyrics\n",
    "    rapper.loc[artst] = song[artst]\n",
    "\n",
    "df_1"
   ]
  },
  {
   "cell_type": "code",
   "execution_count": 14,
   "metadata": {
    "ExecuteTime": {
     "end_time": "2019-05-31T15:08:20.371860Z",
     "start_time": "2019-05-31T15:08:20.353785Z"
    }
   },
   "outputs": [],
   "source": [
    "first_cleaning_session()"
   ]
  },
  {
   "cell_type": "code",
   "execution_count": 15,
   "metadata": {
    "ExecuteTime": {
     "end_time": "2019-05-31T15:08:20.387806Z",
     "start_time": "2019-05-31T15:08:20.373823Z"
    }
   },
   "outputs": [],
   "source": [
    "index = list(df_1.index.values)\n",
    "rapper = df_1.Lyrics\n",
    "\n",
    "s = \" \"\n",
    "for artist_ in index:\n",
    "    rapper.loc[artist_] = s.join(rapper[artist_])"
   ]
  },
  {
   "cell_type": "markdown",
   "metadata": {},
   "source": [
    "There are two types of ways we can represent the words that were just cleaned: as a bag of words (corpus) or a countvectorizer. We are going to keep in both forms because it will help us to analyze it later, and different EDA and Modeling techniques call for it to be in one form over the other to really work. "
   ]
  },
  {
   "cell_type": "markdown",
   "metadata": {},
   "source": [
    "### Corpus"
   ]
  },
  {
   "cell_type": "code",
   "execution_count": 16,
   "metadata": {
    "ExecuteTime": {
     "end_time": "2019-05-31T15:08:20.410784Z",
     "start_time": "2019-05-31T15:08:20.389801Z"
    }
   },
   "outputs": [
    {
     "data": {
      "text/html": [
       "<div>\n",
       "<style scoped>\n",
       "    .dataframe tbody tr th:only-of-type {\n",
       "        vertical-align: middle;\n",
       "    }\n",
       "\n",
       "    .dataframe tbody tr th {\n",
       "        vertical-align: top;\n",
       "    }\n",
       "\n",
       "    .dataframe thead th {\n",
       "        text-align: right;\n",
       "    }\n",
       "</style>\n",
       "<table border=\"1\" class=\"dataframe\">\n",
       "  <thead>\n",
       "    <tr style=\"text-align: right;\">\n",
       "      <th></th>\n",
       "      <th>Lyrics</th>\n",
       "    </tr>\n",
       "    <tr>\n",
       "      <th>Artist</th>\n",
       "      <th></th>\n",
       "    </tr>\n",
       "  </thead>\n",
       "  <tbody>\n",
       "    <tr>\n",
       "      <th>Drake</th>\n",
       "      <td>produced by boi1da frank dukes noah 40 shebib ...</td>\n",
       "    </tr>\n",
       "    <tr>\n",
       "      <th>Jayz</th>\n",
       "      <td>intro hannah williams do i find it so hard whe...</td>\n",
       "    </tr>\n",
       "    <tr>\n",
       "      <th>Nas</th>\n",
       "      <td>produced by ron browz intro fuck jay z whats u...</td>\n",
       "    </tr>\n",
       "    <tr>\n",
       "      <th>Eminem</th>\n",
       "      <td>verse 1 now this shits about to kick off this ...</td>\n",
       "    </tr>\n",
       "    <tr>\n",
       "      <th>Future</th>\n",
       "      <td>intro dj escomoe city the coolest dj on the mo...</td>\n",
       "    </tr>\n",
       "    <tr>\n",
       "      <th>KanyeWest</th>\n",
       "      <td>produced by daft punk  kanye west verse 1 for ...</td>\n",
       "    </tr>\n",
       "  </tbody>\n",
       "</table>\n",
       "</div>"
      ],
      "text/plain": [
       "                                                      Lyrics\n",
       "Artist                                                      \n",
       "Drake      produced by boi1da frank dukes noah 40 shebib ...\n",
       "Jayz       intro hannah williams do i find it so hard whe...\n",
       "Nas        produced by ron browz intro fuck jay z whats u...\n",
       "Eminem     verse 1 now this shits about to kick off this ...\n",
       "Future     intro dj escomoe city the coolest dj on the mo...\n",
       "KanyeWest  produced by daft punk  kanye west verse 1 for ..."
      ]
     },
     "execution_count": 16,
     "metadata": {},
     "output_type": "execute_result"
    }
   ],
   "source": [
    "# After cleaning this dataframe is in the form of a corpus.\n",
    "df_1"
   ]
  },
  {
   "cell_type": "code",
   "execution_count": 17,
   "metadata": {
    "ExecuteTime": {
     "end_time": "2019-05-31T15:08:20.428763Z",
     "start_time": "2019-05-31T15:08:20.413638Z"
    }
   },
   "outputs": [
    {
     "data": {
      "text/html": [
       "<div>\n",
       "<style scoped>\n",
       "    .dataframe tbody tr th:only-of-type {\n",
       "        vertical-align: middle;\n",
       "    }\n",
       "\n",
       "    .dataframe tbody tr th {\n",
       "        vertical-align: top;\n",
       "    }\n",
       "\n",
       "    .dataframe thead th {\n",
       "        text-align: right;\n",
       "    }\n",
       "</style>\n",
       "<table border=\"1\" class=\"dataframe\">\n",
       "  <thead>\n",
       "    <tr style=\"text-align: right;\">\n",
       "      <th></th>\n",
       "      <th>Lyrics</th>\n",
       "      <th>Artist Name</th>\n",
       "    </tr>\n",
       "    <tr>\n",
       "      <th>Artist</th>\n",
       "      <th></th>\n",
       "      <th></th>\n",
       "    </tr>\n",
       "  </thead>\n",
       "  <tbody>\n",
       "    <tr>\n",
       "      <th>Drake</th>\n",
       "      <td>produced by boi1da frank dukes noah 40 shebib ...</td>\n",
       "      <td>Drake</td>\n",
       "    </tr>\n",
       "    <tr>\n",
       "      <th>Jayz</th>\n",
       "      <td>intro hannah williams do i find it so hard whe...</td>\n",
       "      <td>Jayz</td>\n",
       "    </tr>\n",
       "    <tr>\n",
       "      <th>Nas</th>\n",
       "      <td>produced by ron browz intro fuck jay z whats u...</td>\n",
       "      <td>Nas</td>\n",
       "    </tr>\n",
       "    <tr>\n",
       "      <th>Eminem</th>\n",
       "      <td>verse 1 now this shits about to kick off this ...</td>\n",
       "      <td>Eminem</td>\n",
       "    </tr>\n",
       "    <tr>\n",
       "      <th>Future</th>\n",
       "      <td>intro dj escomoe city the coolest dj on the mo...</td>\n",
       "      <td>Future</td>\n",
       "    </tr>\n",
       "    <tr>\n",
       "      <th>KanyeWest</th>\n",
       "      <td>produced by daft punk  kanye west verse 1 for ...</td>\n",
       "      <td>KanyeWest</td>\n",
       "    </tr>\n",
       "  </tbody>\n",
       "</table>\n",
       "</div>"
      ],
      "text/plain": [
       "                                                      Lyrics Artist Name\n",
       "Artist                                                                  \n",
       "Drake      produced by boi1da frank dukes noah 40 shebib ...       Drake\n",
       "Jayz       intro hannah williams do i find it so hard whe...        Jayz\n",
       "Nas        produced by ron browz intro fuck jay z whats u...         Nas\n",
       "Eminem     verse 1 now this shits about to kick off this ...      Eminem\n",
       "Future     intro dj escomoe city the coolest dj on the mo...      Future\n",
       "KanyeWest  produced by daft punk  kanye west verse 1 for ...   KanyeWest"
      ]
     },
     "execution_count": 17,
     "metadata": {},
     "output_type": "execute_result"
    }
   ],
   "source": [
    "# For visualizations later on let's create a column of the artists' names. \n",
    "full_names = df_1.index.tolist()\n",
    "df_1['Artist Name'] = full_names\n",
    "df_1"
   ]
  },
  {
   "cell_type": "code",
   "execution_count": 18,
   "metadata": {
    "ExecuteTime": {
     "end_time": "2019-05-31T15:08:20.448041Z",
     "start_time": "2019-05-31T15:08:20.431757Z"
    }
   },
   "outputs": [],
   "source": [
    "#pickle it for later use\n",
    "df_1.to_pickle('C:/Users/Vonn/DSI - Nash/GAProjects/Capstone Project/Datasets/Pickled_Files/DataFrame_Corpus.pkl')"
   ]
  },
  {
   "cell_type": "markdown",
   "metadata": {},
   "source": [
    "### Countvectorizer"
   ]
  },
  {
   "cell_type": "code",
   "execution_count": 19,
   "metadata": {
    "ExecuteTime": {
     "end_time": "2019-05-31T15:08:20.547996Z",
     "start_time": "2019-05-31T15:08:20.449911Z"
    }
   },
   "outputs": [
    {
     "data": {
      "text/html": [
       "<div>\n",
       "<style scoped>\n",
       "    .dataframe tbody tr th:only-of-type {\n",
       "        vertical-align: middle;\n",
       "    }\n",
       "\n",
       "    .dataframe tbody tr th {\n",
       "        vertical-align: top;\n",
       "    }\n",
       "\n",
       "    .dataframe thead th {\n",
       "        text-align: right;\n",
       "    }\n",
       "</style>\n",
       "<table border=\"1\" class=\"dataframe\">\n",
       "  <thead>\n",
       "    <tr style=\"text-align: right;\">\n",
       "      <th></th>\n",
       "      <th>02</th>\n",
       "      <th>10</th>\n",
       "      <th>100</th>\n",
       "      <th>1000</th>\n",
       "      <th>10yearolds</th>\n",
       "      <th>11</th>\n",
       "      <th>12</th>\n",
       "      <th>125</th>\n",
       "      <th>140</th>\n",
       "      <th>15</th>\n",
       "      <th>...</th>\n",
       "      <th>zip</th>\n",
       "      <th>zod</th>\n",
       "      <th>zombie</th>\n",
       "      <th>zone</th>\n",
       "      <th>zonin</th>\n",
       "      <th>zé</th>\n",
       "      <th>zöld</th>\n",
       "      <th>ölén</th>\n",
       "      <th>úgy</th>\n",
       "      <th>な音楽</th>\n",
       "    </tr>\n",
       "    <tr>\n",
       "      <th>Artist</th>\n",
       "      <th></th>\n",
       "      <th></th>\n",
       "      <th></th>\n",
       "      <th></th>\n",
       "      <th></th>\n",
       "      <th></th>\n",
       "      <th></th>\n",
       "      <th></th>\n",
       "      <th></th>\n",
       "      <th></th>\n",
       "      <th></th>\n",
       "      <th></th>\n",
       "      <th></th>\n",
       "      <th></th>\n",
       "      <th></th>\n",
       "      <th></th>\n",
       "      <th></th>\n",
       "      <th></th>\n",
       "      <th></th>\n",
       "      <th></th>\n",
       "      <th></th>\n",
       "    </tr>\n",
       "  </thead>\n",
       "  <tbody>\n",
       "    <tr>\n",
       "      <th>Drake</th>\n",
       "      <td>0</td>\n",
       "      <td>0</td>\n",
       "      <td>6</td>\n",
       "      <td>0</td>\n",
       "      <td>0</td>\n",
       "      <td>0</td>\n",
       "      <td>0</td>\n",
       "      <td>0</td>\n",
       "      <td>0</td>\n",
       "      <td>1</td>\n",
       "      <td>...</td>\n",
       "      <td>1</td>\n",
       "      <td>0</td>\n",
       "      <td>0</td>\n",
       "      <td>1</td>\n",
       "      <td>0</td>\n",
       "      <td>0</td>\n",
       "      <td>0</td>\n",
       "      <td>0</td>\n",
       "      <td>0</td>\n",
       "      <td>0</td>\n",
       "    </tr>\n",
       "    <tr>\n",
       "      <th>Jayz</th>\n",
       "      <td>0</td>\n",
       "      <td>0</td>\n",
       "      <td>2</td>\n",
       "      <td>0</td>\n",
       "      <td>0</td>\n",
       "      <td>2</td>\n",
       "      <td>0</td>\n",
       "      <td>0</td>\n",
       "      <td>1</td>\n",
       "      <td>0</td>\n",
       "      <td>...</td>\n",
       "      <td>0</td>\n",
       "      <td>0</td>\n",
       "      <td>0</td>\n",
       "      <td>0</td>\n",
       "      <td>0</td>\n",
       "      <td>0</td>\n",
       "      <td>0</td>\n",
       "      <td>0</td>\n",
       "      <td>0</td>\n",
       "      <td>0</td>\n",
       "    </tr>\n",
       "    <tr>\n",
       "      <th>Nas</th>\n",
       "      <td>0</td>\n",
       "      <td>1</td>\n",
       "      <td>0</td>\n",
       "      <td>1</td>\n",
       "      <td>0</td>\n",
       "      <td>0</td>\n",
       "      <td>1</td>\n",
       "      <td>0</td>\n",
       "      <td>0</td>\n",
       "      <td>0</td>\n",
       "      <td>...</td>\n",
       "      <td>0</td>\n",
       "      <td>0</td>\n",
       "      <td>0</td>\n",
       "      <td>0</td>\n",
       "      <td>0</td>\n",
       "      <td>1</td>\n",
       "      <td>0</td>\n",
       "      <td>0</td>\n",
       "      <td>0</td>\n",
       "      <td>0</td>\n",
       "    </tr>\n",
       "    <tr>\n",
       "      <th>Eminem</th>\n",
       "      <td>1</td>\n",
       "      <td>0</td>\n",
       "      <td>0</td>\n",
       "      <td>0</td>\n",
       "      <td>1</td>\n",
       "      <td>0</td>\n",
       "      <td>1</td>\n",
       "      <td>0</td>\n",
       "      <td>0</td>\n",
       "      <td>0</td>\n",
       "      <td>...</td>\n",
       "      <td>0</td>\n",
       "      <td>1</td>\n",
       "      <td>1</td>\n",
       "      <td>0</td>\n",
       "      <td>0</td>\n",
       "      <td>0</td>\n",
       "      <td>0</td>\n",
       "      <td>0</td>\n",
       "      <td>0</td>\n",
       "      <td>0</td>\n",
       "    </tr>\n",
       "    <tr>\n",
       "      <th>Future</th>\n",
       "      <td>0</td>\n",
       "      <td>0</td>\n",
       "      <td>0</td>\n",
       "      <td>0</td>\n",
       "      <td>0</td>\n",
       "      <td>0</td>\n",
       "      <td>2</td>\n",
       "      <td>0</td>\n",
       "      <td>0</td>\n",
       "      <td>0</td>\n",
       "      <td>...</td>\n",
       "      <td>0</td>\n",
       "      <td>0</td>\n",
       "      <td>0</td>\n",
       "      <td>0</td>\n",
       "      <td>0</td>\n",
       "      <td>0</td>\n",
       "      <td>0</td>\n",
       "      <td>0</td>\n",
       "      <td>0</td>\n",
       "      <td>1</td>\n",
       "    </tr>\n",
       "    <tr>\n",
       "      <th>KanyeWest</th>\n",
       "      <td>0</td>\n",
       "      <td>0</td>\n",
       "      <td>0</td>\n",
       "      <td>0</td>\n",
       "      <td>0</td>\n",
       "      <td>0</td>\n",
       "      <td>1</td>\n",
       "      <td>2</td>\n",
       "      <td>0</td>\n",
       "      <td>0</td>\n",
       "      <td>...</td>\n",
       "      <td>0</td>\n",
       "      <td>0</td>\n",
       "      <td>1</td>\n",
       "      <td>0</td>\n",
       "      <td>3</td>\n",
       "      <td>0</td>\n",
       "      <td>1</td>\n",
       "      <td>1</td>\n",
       "      <td>1</td>\n",
       "      <td>0</td>\n",
       "    </tr>\n",
       "  </tbody>\n",
       "</table>\n",
       "<p>6 rows × 5469 columns</p>\n",
       "</div>"
      ],
      "text/plain": [
       "           02  10  100  1000  10yearolds  11  12  125  140  15  ...  zip  zod  \\\n",
       "Artist                                                          ...             \n",
       "Drake       0   0    6     0           0   0   0    0    0   1  ...    1    0   \n",
       "Jayz        0   0    2     0           0   2   0    0    1   0  ...    0    0   \n",
       "Nas         0   1    0     1           0   0   1    0    0   0  ...    0    0   \n",
       "Eminem      1   0    0     0           1   0   1    0    0   0  ...    0    1   \n",
       "Future      0   0    0     0           0   0   2    0    0   0  ...    0    0   \n",
       "KanyeWest   0   0    0     0           0   0   1    2    0   0  ...    0    0   \n",
       "\n",
       "           zombie  zone  zonin  zé  zöld  ölén  úgy  な音楽  \n",
       "Artist                                                    \n",
       "Drake           0     1      0   0     0     0    0    0  \n",
       "Jayz            0     0      0   0     0     0    0    0  \n",
       "Nas             0     0      0   1     0     0    0    0  \n",
       "Eminem          1     0      0   0     0     0    0    0  \n",
       "Future          0     0      0   0     0     0    0    1  \n",
       "KanyeWest       1     0      3   0     1     1    1    0  \n",
       "\n",
       "[6 rows x 5469 columns]"
      ]
     },
     "execution_count": 19,
     "metadata": {},
     "output_type": "execute_result"
    }
   ],
   "source": [
    "stop_words = set(stopwords.words(\"english\"))\n",
    "cv = CountVectorizer(stop_words=stop_words)\n",
    "df_cv = cv.fit_transform(df_1.Lyrics)\n",
    "df_dtm = pd.DataFrame(df_cv.toarray(), columns=cv.get_feature_names())\n",
    "df_dtm.index = df_1.index\n",
    "df_dtm"
   ]
  },
  {
   "cell_type": "code",
   "execution_count": 20,
   "metadata": {
    "ExecuteTime": {
     "end_time": "2019-05-31T15:08:20.569645Z",
     "start_time": "2019-05-31T15:08:20.550986Z"
    }
   },
   "outputs": [],
   "source": [
    "# Let's pickle it for later use\n",
    "df_dtm.to_pickle('C:/Users/Vonn/DSI - Nash/GAProjects/Capstone Project/Datasets/Pickled_Files/DataFrame_Document_Term_Matrix.pkl')"
   ]
  }
 ],
 "metadata": {
  "kernelspec": {
   "display_name": "Python [conda env:NN_Env2]",
   "language": "python",
   "name": "conda-env-NN_Env2-py"
  },
  "language_info": {
   "codemirror_mode": {
    "name": "ipython",
    "version": 3
   },
   "file_extension": ".py",
   "mimetype": "text/x-python",
   "name": "python",
   "nbconvert_exporter": "python",
   "pygments_lexer": "ipython3",
   "version": "3.6.8"
  },
  "toc": {
   "base_numbering": 1,
   "nav_menu": {},
   "number_sections": true,
   "sideBar": true,
   "skip_h1_title": false,
   "title_cell": "Table of Contents",
   "title_sidebar": "Contents",
   "toc_cell": true,
   "toc_position": {},
   "toc_section_display": true,
   "toc_window_display": true
  },
  "varInspector": {
   "cols": {
    "lenName": 16,
    "lenType": 16,
    "lenVar": 40
   },
   "kernels_config": {
    "python": {
     "delete_cmd_postfix": "",
     "delete_cmd_prefix": "del ",
     "library": "var_list.py",
     "varRefreshCmd": "print(var_dic_list())"
    },
    "r": {
     "delete_cmd_postfix": ") ",
     "delete_cmd_prefix": "rm(",
     "library": "var_list.r",
     "varRefreshCmd": "cat(var_dic_list()) "
    }
   },
   "types_to_exclude": [
    "module",
    "function",
    "builtin_function_or_method",
    "instance",
    "_Feature"
   ],
   "window_display": false
  }
 },
 "nbformat": 4,
 "nbformat_minor": 2
}
