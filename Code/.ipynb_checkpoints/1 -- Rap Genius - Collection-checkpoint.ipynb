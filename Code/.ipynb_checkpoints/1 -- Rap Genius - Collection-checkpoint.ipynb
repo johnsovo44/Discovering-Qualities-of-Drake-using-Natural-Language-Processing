{
 "cells": [
  {
   "cell_type": "markdown",
   "metadata": {
    "toc": true
   },
   "source": [
    "<h1>Table of Contents<span class=\"tocSkip\"></span></h1>\n",
    "<div class=\"toc\"><ul class=\"toc-item\"><li><span><a href=\"#Synopsis\" data-toc-modified-id=\"Synopsis-1\"><span class=\"toc-item-num\">1&nbsp;&nbsp;</span>Synopsis</a></span></li><li><span><a href=\"#Imports\" data-toc-modified-id=\"Imports-2\"><span class=\"toc-item-num\">2&nbsp;&nbsp;</span>Imports</a></span></li><li><span><a href=\"#Data-Collection\" data-toc-modified-id=\"Data-Collection-3\"><span class=\"toc-item-num\">3&nbsp;&nbsp;</span>Data Collection</a></span></li><li><span><a href=\"#Sources\" data-toc-modified-id=\"Sources-4\"><span class=\"toc-item-num\">4&nbsp;&nbsp;</span>Sources</a></span></li></ul></div>"
   ]
  },
  {
   "cell_type": "markdown",
   "metadata": {},
   "source": [
    "# Synopsis\n",
    "\n",
    "Drake is one of the most successful rappers of all time. However he is not the best. There is a difference. Drake in many people's eyes is an amazing singer, songwriter, rapper, and the occassional dancer. Yet, he would not be compared to the likes of Jay-z, Nas, J.Cole, or Kendrick Lamar. \n",
    "\n",
    "Why? I want to know what sets Drake apart and makes him one of the most successful rappers today despite not being considered a top lyricists."
   ]
  },
  {
   "cell_type": "markdown",
   "metadata": {},
   "source": [
    "# Imports"
   ]
  },
  {
   "cell_type": "code",
   "execution_count": 1,
   "metadata": {
    "ExecuteTime": {
     "end_time": "2019-05-31T01:17:56.155847Z",
     "start_time": "2019-05-31T01:17:55.267211Z"
    },
    "code_folding": [],
    "init_cell": true
   },
   "outputs": [],
   "source": [
    "# import necessary libraries\n",
    "import csv\n",
    "import re\n",
    "from os import open\n",
    "\n",
    "import codecs\n",
    "import lyricsgenius\n",
    "import matplotlib.pyplot as plt\n",
    "import numpy as np\n",
    "import pandas as pd\n",
    "import requests\n",
    "import tqdm as tq\n",
    "import pickle\n",
    "import glob \n",
    "import json\n",
    "import time\n",
    "import tqdm\n",
    "\n",
    "# importing warnings to turn off any future warnings\n",
    "import warnings\n",
    "warnings.simplefilter(action='ignore')"
   ]
  },
  {
   "cell_type": "markdown",
   "metadata": {},
   "source": [
    "# Data Collection\n",
    "\n",
    "We will understand Drake through the lens of his lyris vs. others. I will gather the lyrics from Genius.com's API. It allows you to insert in an artist, determine how many songs you would like based off popularity or title. I chose to go with the top 10 songs by popularity according to the Genius API. Ultimately I felt this was appropriate because it will allows us to understand the artist the way the general public understands them. Obscure songs would probably give us a distorted view. \n",
    "\n",
    "For now I choose to go with Artists that are popular and still relevant. Three of them are considered great lyricist (Jay-z, Nas, and Eminem) according to the general public (if you view message boards and the like). The other two are Drake's contemporaries  (Kanye West and Future). Hopefully we can draw some serious contrast between all the artist to make Drake stand out. \n",
    "\n",
    "Once I read in the data I will put it into a large corpus per artist and then it will be ready for pre-processing."
   ]
  },
  {
   "cell_type": "code",
   "execution_count": 2,
   "metadata": {
    "ExecuteTime": {
     "end_time": "2019-05-31T01:17:56.160798Z",
     "start_time": "2019-05-31T01:17:56.157805Z"
    },
    "init_cell": true
   },
   "outputs": [],
   "source": [
    "# This is the list of artist that I want to view for this project\n",
    "\n",
    "artist_list = ['Drake', 'Jay-z', 'Nas', 'Eminem', 'Future', 'Kanye West']"
   ]
  },
  {
   "cell_type": "code",
   "execution_count": 3,
   "metadata": {
    "ExecuteTime": {
     "end_time": "2019-05-31T01:17:56.171768Z",
     "start_time": "2019-05-31T01:17:56.161796Z"
    },
    "init_cell": true,
    "scrolled": false
   },
   "outputs": [],
   "source": [
    "# Search for the artist by first establishing the Genius API\n",
    "\n",
    "def search_artist(name, max_amount_of_songs, how_to_sort_it = 'popularity'):\n",
    "    token = '4QvN5TU9_c4T9xbDeMuYXkf-UWM15_UfG-KrqrgWZAlFZajfxWpQTSa3EJ3ILIqJ'\n",
    "    genius = lyricsgenius.Genius(token)\n",
    "    genius.verbose = False\n",
    "    artist = genius.search_artist(name,max_songs=max_amount_of_songs,get_full_info=True )\n",
    "    artist.save_lyrics()\n",
    "    \n"
   ]
  },
  {
   "cell_type": "code",
   "execution_count": 4,
   "metadata": {
    "ExecuteTime": {
     "end_time": "2019-05-31T01:20:47.954225Z",
     "start_time": "2019-05-31T01:18:10.924891Z"
    }
   },
   "outputs": [
    {
     "data": {
      "application/vnd.jupyter.widget-view+json": {
       "model_id": "0725435ee6b246bb84c1d80af71c01e1",
       "version_major": 2,
       "version_minor": 0
      },
      "text/plain": [
       "HBox(children=(IntProgress(value=0, max=6), HTML(value='')))"
      ]
     },
     "metadata": {},
     "output_type": "display_data"
    },
    {
     "name": "stdout",
     "output_type": "stream",
     "text": [
      "Wrote God’s Plan to lyrics_drake_godsplan.json.\n",
      "Wrote In My Feelings to lyrics_drake_inmyfeelings.json.\n",
      "Wrote Hotline Bling to lyrics_drake_hotlinebling.json.\n",
      "Wrote One Dance to lyrics_drake_onedance.json.\n",
      "Wrote Hold On, We’re Going Home to lyrics_drake_holdonweregoinghome.json.\n",
      "Wrote Know Yourself to lyrics_drake_knowyourself.json.\n",
      "Wrote Back to Back to lyrics_drake_backtoback.json.\n",
      "Wrote All Me to lyrics_drake_allme.json.\n",
      "Wrote Fake Love to lyrics_drake_fakelove.json.\n",
      "Wrote 0 to 100 / The Catch Up to lyrics_drake_0to100thecatchup.json.\n",
      "Wrote Holy Grail to lyrics_jayz_holygrail.json.\n",
      "Wrote Part II (On The Run) to lyrics_jayz_partiiontherun.json.\n",
      "Wrote The Story of O.J. to lyrics_jayz_thestoryofo.j..json.\n",
      "Wrote Tom Ford to lyrics_jayz_tomford.json.\n",
      "Wrote 4:44 to lyrics_jayz_444.json.\n",
      "Wrote FuckWithMeYouKnowIGotIt to lyrics_jayz_fuckwithmeyouknowigotit.json.\n",
      "Wrote Empire State of Mind to lyrics_jayz_empirestateofmind.json.\n",
      "Wrote Oceans to lyrics_jayz_oceans.json.\n",
      "Wrote 99 Problems to lyrics_jayz_99problems.json.\n",
      "Wrote Picasso Baby to lyrics_jayz_picassobaby.json.\n",
      "Wrote N.Y. State of Mind to lyrics_nas_n.y.stateofmind.json.\n",
      "Wrote Ether to lyrics_nas_ether.json.\n",
      "Wrote Life’s a Bitch to lyrics_nas_lifesabitch.json.\n",
      "Wrote The World Is Yours to lyrics_nas_theworldisyours.json.\n",
      "Wrote The Message to lyrics_nas_themessage.json.\n",
      "Wrote It Ain’t Hard to Tell to lyrics_nas_itainthardtotell.json.\n",
      "Wrote One Love to lyrics_nas_onelove.json.\n",
      "Wrote If I Ruled the World (Imagine That) to lyrics_nas_ifiruledtheworldimaginethat.json.\n",
      "Wrote Represent to lyrics_nas_represent.json.\n",
      "Wrote Nas Is Like to lyrics_nas_nasislike.json.\n",
      "Wrote Rap God to lyrics_eminem_rapgod.json.\n",
      "Wrote Killshot to lyrics_eminem_killshot.json.\n",
      "Wrote The Monster to lyrics_eminem_themonster.json.\n",
      "Wrote Lose Yourself to lyrics_eminem_loseyourself.json.\n",
      "Wrote Lucky You to lyrics_eminem_luckyyou.json.\n",
      "Wrote The Ringer to lyrics_eminem_theringer.json.\n",
      "Wrote River to lyrics_eminem_river.json.\n",
      "Wrote Berzerk to lyrics_eminem_berzerk.json.\n",
      "Wrote Venom (Music from the Motion Picture) to lyrics_eminem_venommusicfromthemotionpicture.json.\n",
      "Wrote Not Alike to lyrics_eminem_notalike.json.\n",
      "Wrote Mask Off to lyrics_future_maskoff.json.\n",
      "Wrote Low Life to lyrics_future_lowlife.json.\n",
      "Wrote March Madness to lyrics_future_marchmadness.json.\n",
      "Wrote Where Ya At to lyrics_future_whereyaat.json.\n",
      "Wrote Fuck Up Some Commas to lyrics_future_fuckupsomecommas.json.\n",
      "Wrote Comin Out Strong to lyrics_future_cominoutstrong.json.\n",
      "Wrote I Won to lyrics_future_iwon.json.\n",
      "Wrote Thought It Was a Drought to lyrics_future_thoughtitwasadrought.json.\n",
      "Wrote Used to This to lyrics_future_usedtothis.json.\n",
      "Wrote Codeine Crazy to lyrics_future_codeinecrazy.json.\n",
      "Wrote Mercy to lyrics_kanyewest_mercy.json.\n",
      "Wrote Father Stretch My Hands, Pt. 1 to lyrics_kanyewest_fatherstretchmyhandspt.1.json.\n",
      "Wrote Ultralight Beam to lyrics_kanyewest_ultralightbeam.json.\n",
      "Wrote Clique to lyrics_kanyewest_clique.json.\n",
      "Wrote Monster to lyrics_kanyewest_monster.json.\n",
      "Wrote Bound 2 to lyrics_kanyewest_bound2.json.\n",
      "Wrote New Slaves to lyrics_kanyewest_newslaves.json.\n",
      "Wrote Blood on the Leaves to lyrics_kanyewest_bloodontheleaves.json.\n",
      "Wrote Black Skinhead to lyrics_kanyewest_blackskinhead.json.\n",
      "Wrote Don’t Like.1 to lyrics_kanyewest_dontlike.1.json.\n",
      "\n"
     ]
    }
   ],
   "source": [
    "# gather the data from the api\n",
    "\n",
    "for art in tqdm.tqdm_notebook(artist_list):\n",
    "    search_artist(art,10)\n",
    "    time.sleep(5)"
   ]
  },
  {
   "cell_type": "code",
   "execution_count": 5,
   "metadata": {
    "ExecuteTime": {
     "end_time": "2019-05-31T01:20:47.968189Z",
     "start_time": "2019-05-31T01:20:47.957239Z"
    }
   },
   "outputs": [],
   "source": [
    "# Create a raw corpus of all they lyrics\n",
    "\n",
    "d = {}\n",
    "def to_raw_corpus(artists_name):\n",
    "    \"\"\"\n",
    "    The glob module finds all the pathnames matching a specified pattern according\n",
    "    to the rules used by the Unix shell, although results are returned in arbitrary order.\n",
    "    \n",
    "    This function allows you to glob or grab all of the files at once to place\n",
    "    in the corpus for each artist. The first half will gather the information\n",
    "    from where it is saved. The second half will place it into a string.\n",
    "    \"\"\"\n",
    "    # fix name if it has unsual characters in it\n",
    "    \n",
    "    artists_name = re.sub(r'[^\\w\\s]', '', artists_name)\n",
    "    artists_name = re.sub(r'[/\\s/g]', '', artists_name)\n",
    "    \n",
    "    # Glob the files, aggregate the file names\n",
    "    \n",
    "    str_ = f'lyrics_{artists_name.lower()}*' # create a string of the artist for the file name\n",
    "    d[f'lyrics_{artists_name}'] = sorted(glob.glob(str_)) \n",
    "\n",
    "    \n",
    "    # put it into it's own corpus\n",
    "    \n",
    "    corpus_raw = \"\"\n",
    "    for lyrics in d[f'lyrics_{artists_name}']:\n",
    "        with codecs.open(lyrics, \"r\") as lyrics_file:\n",
    "            data = json.load(lyrics_file)\n",
    "            corpus_raw += data['songs'][0]['lyrics']\n",
    "            \n",
    "    # save the corpus\n",
    "    \n",
    "    with codecs.open(f\"../Datasets/Pickled_Files/{artists_name}_corpus_raw\", \"wb\") as file:\n",
    "        pickle.dump(corpus_raw, file)"
   ]
  },
  {
   "cell_type": "code",
   "execution_count": 6,
   "metadata": {
    "ExecuteTime": {
     "end_time": "2019-05-31T01:20:48.039996Z",
     "start_time": "2019-05-31T01:20:47.969185Z"
    }
   },
   "outputs": [
    {
     "name": "stdout",
     "output_type": "stream",
     "text": [
      "initiating raw corpus read for Drake\n",
      "Done\n",
      "\n",
      "initiating raw corpus read for Jay-z\n",
      "Done\n",
      "\n",
      "initiating raw corpus read for Nas\n",
      "Done\n",
      "\n",
      "initiating raw corpus read for Eminem\n",
      "Done\n",
      "\n",
      "initiating raw corpus read for Future\n",
      "Done\n",
      "\n",
      "initiating raw corpus read for Kanye West\n",
      "Done\n",
      "\n"
     ]
    }
   ],
   "source": [
    "# ...and now that we have the function ready, let's collect.\n",
    "\n",
    "for art in artist_list:\n",
    "    print(f\"initiating raw corpus read for {art}\")\n",
    "    to_raw_corpus(art)\n",
    "    print(\"Done\")\n",
    "    print()"
   ]
  },
  {
   "cell_type": "code",
   "execution_count": 7,
   "metadata": {
    "ExecuteTime": {
     "end_time": "2019-05-31T01:20:48.053009Z",
     "start_time": "2019-05-31T01:20:48.046979Z"
    },
    "tags": [
     "functions",
     "regex",
     "pickle",
     "dataframe",
     ".items()"
    ]
   },
   "outputs": [],
   "source": [
    "# creating a function to send the lyrics to a dataframe\n",
    "\n",
    "def to_data_frame(artist_list):\n",
    "    \n",
    "    \"\"\"\n",
    "    We are going to need to place this information into a dataframe. Easier to\n",
    "    manipulate that way. We will start by creating a dictionary of key: value\n",
    "    pairs. The artist is the key, their lyrics are the value. After it is opened\n",
    "    and saved to the artist's key we will return the data frame and establish\n",
    "    the columns.\n",
    "    \"\"\"\n",
    "    data_dict_for_DataFrame ={}\n",
    "    for art in artist_list: \n",
    "        art = re.sub(r'[^\\w\\s]', '', art)\n",
    "        art = re.sub(r'[/\\s/g]', '', art)\n",
    "        with codecs.open (f'../Datasets/Pickled_Files/{art}_corpus_raw', 'rb') as json_file:\n",
    "            data_dict_for_DataFrame[f'{art}'] = pickle.load(json_file)\n",
    "    return pd.DataFrame(data_dict_for_DataFrame.items(),columns = ('Artist', 'Lyrics'))"
   ]
  },
  {
   "cell_type": "code",
   "execution_count": 8,
   "metadata": {
    "ExecuteTime": {
     "end_time": "2019-05-31T01:20:48.081935Z",
     "start_time": "2019-05-31T01:20:48.056960Z"
    },
    "scrolled": true
   },
   "outputs": [
    {
     "data": {
      "text/html": [
       "<div>\n",
       "<style scoped>\n",
       "    .dataframe tbody tr th:only-of-type {\n",
       "        vertical-align: middle;\n",
       "    }\n",
       "\n",
       "    .dataframe tbody tr th {\n",
       "        vertical-align: top;\n",
       "    }\n",
       "\n",
       "    .dataframe thead th {\n",
       "        text-align: right;\n",
       "    }\n",
       "</style>\n",
       "<table border=\"1\" class=\"dataframe\">\n",
       "  <thead>\n",
       "    <tr style=\"text-align: right;\">\n",
       "      <th></th>\n",
       "      <th>Artist</th>\n",
       "      <th>Lyrics</th>\n",
       "    </tr>\n",
       "  </thead>\n",
       "  <tbody>\n",
       "    <tr>\n",
       "      <th>0</th>\n",
       "      <td>Drake</td>\n",
       "      <td>[Produced by Boi-1da, Frank Dukes, Noah \"40\" S...</td>\n",
       "    </tr>\n",
       "    <tr>\n",
       "      <th>1</th>\n",
       "      <td>Jayz</td>\n",
       "      <td>[Intro: Hannah Williams]\\nDo I find it so hard...</td>\n",
       "    </tr>\n",
       "    <tr>\n",
       "      <th>2</th>\n",
       "      <td>Nas</td>\n",
       "      <td>[Produced by Ron Browz]\\n\\n[Intro]\\nFuck Jay Z...</td>\n",
       "    </tr>\n",
       "    <tr>\n",
       "      <th>3</th>\n",
       "      <td>Eminem</td>\n",
       "      <td>[Verse 1]\\nNow this shit's about to kick off, ...</td>\n",
       "    </tr>\n",
       "    <tr>\n",
       "      <th>4</th>\n",
       "      <td>Future</td>\n",
       "      <td>[Intro]\\nDJ Esco-Moe City, the coolest DJ on t...</td>\n",
       "    </tr>\n",
       "    <tr>\n",
       "      <th>5</th>\n",
       "      <td>KanyeWest</td>\n",
       "      <td>[Produced By Daft Punk &amp; Kanye West]\\n\\n[Verse...</td>\n",
       "    </tr>\n",
       "  </tbody>\n",
       "</table>\n",
       "</div>"
      ],
      "text/plain": [
       "      Artist                                             Lyrics\n",
       "0      Drake  [Produced by Boi-1da, Frank Dukes, Noah \"40\" S...\n",
       "1       Jayz  [Intro: Hannah Williams]\\nDo I find it so hard...\n",
       "2        Nas  [Produced by Ron Browz]\\n\\n[Intro]\\nFuck Jay Z...\n",
       "3     Eminem  [Verse 1]\\nNow this shit's about to kick off, ...\n",
       "4     Future  [Intro]\\nDJ Esco-Moe City, the coolest DJ on t...\n",
       "5  KanyeWest  [Produced By Daft Punk & Kanye West]\\n\\n[Verse..."
      ]
     },
     "execution_count": 8,
     "metadata": {},
     "output_type": "execute_result"
    }
   ],
   "source": [
    "# Using the function created above let's execute...\n",
    "\n",
    "raw_dataframe = to_data_frame(artist_list)\n",
    "raw_dataframe"
   ]
  },
  {
   "cell_type": "code",
   "execution_count": 9,
   "metadata": {
    "ExecuteTime": {
     "end_time": "2019-05-31T01:20:48.090858Z",
     "start_time": "2019-05-31T01:20:48.082880Z"
    }
   },
   "outputs": [],
   "source": [
    "# Save the file for the next notebook\n",
    "\n",
    "with codecs.open('../Datasets/Pickled_Files/Raw_Dataframe', 'wb') as f:\n",
    "    pickle.dump(raw_dataframe,f)"
   ]
  },
  {
   "cell_type": "markdown",
   "metadata": {},
   "source": [
    "# Sources\n",
    "\n",
    "The following are sources I used to help guide me through this project.\n",
    "\n",
    "1. https://github.com/johnwmillr/LyricsGenius \n",
    "2. https://stackoverflow.com/questions/47400466/using-genius-api\n",
    "3. http://www.storybench.org/download-song-lyrics-genius-using-python/\n",
    "4. https://www.johnwmillr.com/trucks-and-beer/\n",
    "5. http://jdaytn.com/posts/download-blink-182-data/\n",
    "6. https://github.com/Hugo-Nattagh/2017-Hip-Hop\n",
    "7. https://towardsdatascience.com/does-country-music-drink-more-than-other-genres-a21db901940b\n",
    "8. https://towardsdatascience.com/49-years-of-lyrics-why-so-angry-1adf0a3fa2b4\n",
    "9. https://medium.com/@RareLoot/how-to-download-an-artists-lyrics-from-genius-com-using-python-984d298951c6"
   ]
  }
 ],
 "metadata": {
  "kernelspec": {
   "display_name": "Python 3",
   "language": "python",
   "name": "python3"
  },
  "language_info": {
   "codemirror_mode": {
    "name": "ipython",
    "version": 3
   },
   "file_extension": ".py",
   "mimetype": "text/x-python",
   "name": "python",
   "nbconvert_exporter": "python",
   "pygments_lexer": "ipython3",
   "version": "3.7.1"
  },
  "toc": {
   "base_numbering": 1,
   "nav_menu": {
    "height": "173px",
    "width": "188px"
   },
   "number_sections": true,
   "sideBar": true,
   "skip_h1_title": false,
   "title_cell": "Table of Contents",
   "title_sidebar": "Contents",
   "toc_cell": true,
   "toc_position": {
    "height": "calc(100% - 180px)",
    "left": "10px",
    "top": "150px",
    "width": "165px"
   },
   "toc_section_display": true,
   "toc_window_display": false
  },
  "varInspector": {
   "cols": {
    "lenName": 16,
    "lenType": 16,
    "lenVar": 40
   },
   "kernels_config": {
    "python": {
     "delete_cmd_postfix": "",
     "delete_cmd_prefix": "del ",
     "library": "var_list.py",
     "varRefreshCmd": "print(var_dic_list())"
    },
    "r": {
     "delete_cmd_postfix": ") ",
     "delete_cmd_prefix": "rm(",
     "library": "var_list.r",
     "varRefreshCmd": "cat(var_dic_list()) "
    }
   },
   "oldHeight": 294.40322199999997,
   "position": {
    "height": "40px",
    "left": "1373.43px",
    "right": "20px",
    "top": "133px",
    "width": "316.181px"
   },
   "types_to_exclude": [
    "module",
    "function",
    "builtin_function_or_method",
    "instance",
    "_Feature"
   ],
   "varInspector_section_display": "none",
   "window_display": true
  }
 },
 "nbformat": 4,
 "nbformat_minor": 2
}
