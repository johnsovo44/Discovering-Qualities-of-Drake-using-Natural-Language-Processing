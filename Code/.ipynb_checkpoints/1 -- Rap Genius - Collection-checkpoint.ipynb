{
 "cells": [
  {
   "cell_type": "markdown",
   "metadata": {
    "toc": true
   },
   "source": [
    "<h1>Table of Contents<span class=\"tocSkip\"></span></h1>\n",
    "<div class=\"toc\"><ul class=\"toc-item\"><li><span><a href=\"#Problem-Statement\" data-toc-modified-id=\"Problem-Statement-1\"><span class=\"toc-item-num\">1&nbsp;&nbsp;</span>Problem Statement</a></span></li><li><span><a href=\"#Sources\" data-toc-modified-id=\"Sources-2\"><span class=\"toc-item-num\">2&nbsp;&nbsp;</span>Sources</a></span></li><li><span><a href=\"#Imports\" data-toc-modified-id=\"Imports-3\"><span class=\"toc-item-num\">3&nbsp;&nbsp;</span>Imports</a></span></li><li><span><a href=\"#Data-Collection\" data-toc-modified-id=\"Data-Collection-4\"><span class=\"toc-item-num\">4&nbsp;&nbsp;</span>Data Collection</a></span><ul class=\"toc-item\"><li><span><a href=\"#Gather-the-lyrics\" data-toc-modified-id=\"Gather-the-lyrics-4.1\"><span class=\"toc-item-num\">4.1&nbsp;&nbsp;</span>Gather the lyrics</a></span><ul class=\"toc-item\"><li><span><a href=\"#Get-the-API\" data-toc-modified-id=\"Get-the-API-4.1.1\"><span class=\"toc-item-num\">4.1.1&nbsp;&nbsp;</span>Get the API</a></span></li></ul></li></ul></li></ul></div>"
   ]
  },
  {
   "cell_type": "markdown",
   "metadata": {},
   "source": [
    "# Problem Statement"
   ]
  },
  {
   "cell_type": "markdown",
   "metadata": {},
   "source": [
    "Drake is one of the most successful rappers of all time. However he is not the best. There is a difference. Drake in many people's eyes is an amazing singer, songwriter, rapper, and the occassional dancer. Yet, he would not be compared to the likes of Jay-z, Nas, J.Cole, or Kendrick Lamar. Why? I want to know what sets Drake apart and makes him one of the successful rappers today despite not being considered a top lyricists.\n",
    "\n",
    "Compared to other rappers artistry how does he compare to be on their level."
   ]
  },
  {
   "cell_type": "markdown",
   "metadata": {},
   "source": [
    "# Sources\n",
    "\n",
    "1. https://github.com/johnwmillr/LyricsGenius \n",
    "2. https://stackoverflow.com/questions/47400466/using-genius-api\n",
    "3. http://www.storybench.org/download-song-lyrics-genius-using-python/\n",
    "4. https://www.johnwmillr.com/trucks-and-beer/\n",
    "5. http://jdaytn.com/posts/download-blink-182-data/\n",
    "6. https://github.com/Hugo-Nattagh/2017-Hip-Hop\n",
    "7. https://towardsdatascience.com/does-country-music-drink-more-than-other-genres-a21db901940b\n",
    "8. https://towardsdatascience.com/49-years-of-lyrics-why-so-angry-1adf0a3fa2b4\n",
    "9. https://medium.com/@RareLoot/how-to-download-an-artists-lyrics-from-genius-com-using-python-984d298951c6"
   ]
  },
  {
   "cell_type": "markdown",
   "metadata": {},
   "source": [
    "# Imports"
   ]
  },
  {
   "cell_type": "code",
   "execution_count": 1,
   "metadata": {
    "ExecuteTime": {
     "end_time": "2019-05-16T22:01:10.878009Z",
     "start_time": "2019-05-16T22:01:10.869577Z"
    },
    "scrolled": true
   },
   "outputs": [],
   "source": [
    "# installations. Those commented out have already been installed.\n",
    "\n",
    "# !pip install -U request\n",
    "# !pip install -U beautifulsoup4"
   ]
  },
  {
   "cell_type": "code",
   "execution_count": 2,
   "metadata": {
    "ExecuteTime": {
     "end_time": "2019-05-16T22:01:14.579974Z",
     "start_time": "2019-05-16T22:01:12.306563Z"
    },
    "code_folding": []
   },
   "outputs": [],
   "source": [
    "# import necessary libraries\n",
    "import csv\n",
    "import re\n",
    "from os import open\n",
    "\n",
    "import codecs\n",
    "import lyricsgenius\n",
    "import matplotlib.pyplot as plt\n",
    "import numpy as np\n",
    "import pandas as pd\n",
    "import requests\n",
    "import tqdm as tq\n",
    "import pickle\n",
    "import glob \n",
    "import json\n",
    "import time\n",
    "import tqdm"
   ]
  },
  {
   "cell_type": "markdown",
   "metadata": {},
   "source": [
    "# Data Collection"
   ]
  },
  {
   "cell_type": "markdown",
   "metadata": {},
   "source": [
    "## Gather the lyrics"
   ]
  },
  {
   "cell_type": "markdown",
   "metadata": {},
   "source": [
    "### Get the API"
   ]
  },
  {
   "cell_type": "code",
   "execution_count": 3,
   "metadata": {
    "ExecuteTime": {
     "end_time": "2019-05-16T22:01:25.202606Z",
     "start_time": "2019-05-16T22:01:25.194865Z"
    }
   },
   "outputs": [],
   "source": [
    "artist_list = ['Drake', 'Jay-z', 'Nas', 'Eminem', 'Future', 'Kanye West']"
   ]
  },
  {
   "cell_type": "code",
   "execution_count": 7,
   "metadata": {
    "ExecuteTime": {
     "end_time": "2019-05-16T22:01:52.397640Z",
     "start_time": "2019-05-16T22:01:52.388769Z"
    },
    "scrolled": false
   },
   "outputs": [],
   "source": [
    "# search for the artist you want\n",
    "def search_artist(name, max_amount_of_songs, how_to_sort_it = 'popularity'):\n",
    "    token = '4QvN5TU9_c4T9xbDeMuYXkf-UWM15_UfG-KrqrgWZAlFZajfxWpQTSa3EJ3ILIqJ'\n",
    "    genius = lyricsgenius.Genius(token)\n",
    "    genius.verbose = False # in the future change this to true or set artist.save_lyrics() to not be returned\n",
    "    artist = genius.search_artist(name,max_songs=max_amount_of_songs,get_full_info=True )\n",
    "    return artist.save_lyrics()"
   ]
  },
  {
   "cell_type": "code",
   "execution_count": null,
   "metadata": {
    "ExecuteTime": {
     "end_time": "2019-05-16T22:05:08.857630Z",
     "start_time": "2019-05-16T22:02:37.982500Z"
    }
   },
   "outputs": [],
   "source": [
    "# # gather the data from the api\n",
    "# for art in tqdm.tqdm_notebook(artist_list):\n",
    "#     search_artist(art,10)\n",
    "#     time.sleep(60)\n",
    "    \n",
    "# # Do not run"
   ]
  },
  {
   "cell_type": "code",
   "execution_count": 11,
   "metadata": {
    "ExecuteTime": {
     "end_time": "2019-05-16T23:33:54.438357Z",
     "start_time": "2019-05-16T23:33:54.429261Z"
    }
   },
   "outputs": [],
   "source": [
    "# Create a raw corpus of all they lyrics\n",
    "d = {}\n",
    "def to_raw_corpus(artists_name):\n",
    "    # fix name if it has unsual characters in it\n",
    "    artists_name = re.sub(r'[^\\w\\s]', '', artists_name)\n",
    "    artists_name = re.sub(r'[/\\s/g]', '', artists_name)\n",
    "    # Glob the files, aggregate the file names\n",
    "    str_ = f'lyrics_{artists_name.lower()}*' # create a string of the artist for the file name\n",
    "    print(f\"This is what str_ looks like right now: {str_}\")\n",
    "    print()\n",
    "    d[f'lyrics_{artists_name}'] = sorted(glob.glob(str_)) \n",
    "    print(f\"This is what the {artists_name} key looks like right now: {d[f'lyrics_{artists_name}']}\")\n",
    "    # put it into it's own corpus\n",
    "    corpus_raw = \"\"\n",
    "    for lyrics in d[f'lyrics_{artists_name}']:\n",
    "        print(f'Reading {lyrics}')\n",
    "        with codecs.open(lyrics, \"r\") as lyrics_file:\n",
    "            data = json.load(lyrics_file)\n",
    "            corpus_raw += data['songs'][0]['lyrics']\n",
    "            print(f'Corpus is now {len(corpus_raw)} characters long')\n",
    "            print()\n",
    "    # save the corpus\n",
    "    with codecs.open(f\"../Datasets/Pickled_Files/{artists_name}_corpus_raw\", \"wb\") as file:\n",
    "        pickle.dump(corpus_raw, file)\n",
    "    \n",
    "# The glob module finds all the pathnames matching a specified pattern according \n",
    "# to the rules used by the Unix shell, although results are returned in arbitrary order."
   ]
  },
  {
   "cell_type": "code",
   "execution_count": null,
   "metadata": {
    "ExecuteTime": {
     "end_time": "2019-05-16T23:31:00.098231Z",
     "start_time": "2019-05-16T23:31:00.069420Z"
    }
   },
   "outputs": [],
   "source": [
    "# Do not Run, this pulls all the data back down.\n",
    "# for art in artist_list:\n",
    "#     print(f\"initiating raw corpus read for {art}\")\n",
    "#     to_raw_corpus(art)\n",
    "#     print(\"Done\")\n",
    "#     print()"
   ]
  },
  {
   "cell_type": "code",
   "execution_count": 14,
   "metadata": {
    "ExecuteTime": {
     "end_time": "2019-05-16T23:35:44.350059Z",
     "start_time": "2019-05-16T23:35:44.329821Z"
    },
    "tags": [
     "functions",
     "regex",
     "pickle",
     "dataframe",
     ".items()"
    ]
   },
   "outputs": [],
   "source": [
    "def to_data_frame(artist_list):\n",
    "    data_dict_for_DataFrame ={}\n",
    "    for art in artist_list: \n",
    "        art = re.sub(r'[^\\w\\s]', '', art)\n",
    "        art = re.sub(r'[/\\s/g]', '', art)\n",
    "        print(f\"This is the artist: {art}\")\n",
    "        with codecs.open (f'../Datasets/Pickled_Files/{art}_corpus_raw', 'rb') as json_file:\n",
    "            data_dict_for_DataFrame[f'{art}'] = pickle.load(json_file)\n",
    "    return pd.DataFrame(data_dict_for_DataFrame.items(),columns = ('Artist', 'Lyrics'))"
   ]
  },
  {
   "cell_type": "code",
   "execution_count": 15,
   "metadata": {
    "ExecuteTime": {
     "end_time": "2019-05-16T23:35:44.936827Z",
     "start_time": "2019-05-16T23:35:44.842238Z"
    }
   },
   "outputs": [
    {
     "name": "stdout",
     "output_type": "stream",
     "text": [
      "This is the artist: Drake\n",
      "This is the artist: Jayz\n",
      "This is the artist: Nas\n",
      "This is the artist: Eminem\n",
      "This is the artist: Future\n",
      "This is the artist: KanyeWest\n"
     ]
    },
    {
     "data": {
      "text/html": [
       "<div>\n",
       "<style scoped>\n",
       "    .dataframe tbody tr th:only-of-type {\n",
       "        vertical-align: middle;\n",
       "    }\n",
       "\n",
       "    .dataframe tbody tr th {\n",
       "        vertical-align: top;\n",
       "    }\n",
       "\n",
       "    .dataframe thead th {\n",
       "        text-align: right;\n",
       "    }\n",
       "</style>\n",
       "<table border=\"1\" class=\"dataframe\">\n",
       "  <thead>\n",
       "    <tr style=\"text-align: right;\">\n",
       "      <th></th>\n",
       "      <th>Artist</th>\n",
       "      <th>Lyrics</th>\n",
       "    </tr>\n",
       "  </thead>\n",
       "  <tbody>\n",
       "    <tr>\n",
       "      <th>0</th>\n",
       "      <td>Drake</td>\n",
       "      <td>[Produced by Boi-1da, Frank Dukes, Noah \"40\" S...</td>\n",
       "    </tr>\n",
       "    <tr>\n",
       "      <th>1</th>\n",
       "      <td>Jayz</td>\n",
       "      <td>[Intro: Hannah Williams]\\nDo I find it so hard...</td>\n",
       "    </tr>\n",
       "    <tr>\n",
       "      <th>2</th>\n",
       "      <td>Nas</td>\n",
       "      <td>[Produced by Ron Browz]\\n\\n[Intro]\\nFuck Jay Z...</td>\n",
       "    </tr>\n",
       "    <tr>\n",
       "      <th>3</th>\n",
       "      <td>Eminem</td>\n",
       "      <td>[Verse 1]\\nNow this shit's about to kick off, ...</td>\n",
       "    </tr>\n",
       "    <tr>\n",
       "      <th>4</th>\n",
       "      <td>Future</td>\n",
       "      <td>[Intro]\\nHigh Klassified な音楽\\nI got the truth ...</td>\n",
       "    </tr>\n",
       "    <tr>\n",
       "      <th>5</th>\n",
       "      <td>KanyeWest</td>\n",
       "      <td>[Produced By Daft Punk &amp; Kanye West]\\n\\n[Verse...</td>\n",
       "    </tr>\n",
       "  </tbody>\n",
       "</table>\n",
       "</div>"
      ],
      "text/plain": [
       "      Artist                                             Lyrics\n",
       "0      Drake  [Produced by Boi-1da, Frank Dukes, Noah \"40\" S...\n",
       "1       Jayz  [Intro: Hannah Williams]\\nDo I find it so hard...\n",
       "2        Nas  [Produced by Ron Browz]\\n\\n[Intro]\\nFuck Jay Z...\n",
       "3     Eminem  [Verse 1]\\nNow this shit's about to kick off, ...\n",
       "4     Future  [Intro]\\nHigh Klassified な音楽\\nI got the truth ...\n",
       "5  KanyeWest  [Produced By Daft Punk & Kanye West]\\n\\n[Verse..."
      ]
     },
     "execution_count": 15,
     "metadata": {},
     "output_type": "execute_result"
    }
   ],
   "source": [
    "raw_dataframe = to_data_frame(artist_list)\n",
    "raw_dataframe"
   ]
  },
  {
   "cell_type": "code",
   "execution_count": null,
   "metadata": {
    "ExecuteTime": {
     "end_time": "2019-05-08T01:28:10.239984Z",
     "start_time": "2019-05-08T01:28:10.218616Z"
    }
   },
   "outputs": [],
   "source": [
    "# DO NOT RUN!\n",
    "# # Save the file for the next notebook\n",
    "# with codecs.open('Raw_Dataframe', 'wb') as f:\n",
    "#     pickle.dump(raw_dataframe,f)"
   ]
  }
 ],
 "metadata": {
  "celltoolbar": "Tags",
  "kernelspec": {
   "display_name": "Python 3",
   "language": "python",
   "name": "python3"
  },
  "language_info": {
   "codemirror_mode": {
    "name": "ipython",
    "version": 3
   },
   "file_extension": ".py",
   "mimetype": "text/x-python",
   "name": "python",
   "nbconvert_exporter": "python",
   "pygments_lexer": "ipython3",
   "version": "3.7.1"
  },
  "toc": {
   "base_numbering": 1,
   "nav_menu": {
    "height": "173px",
    "width": "188px"
   },
   "number_sections": true,
   "sideBar": true,
   "skip_h1_title": false,
   "title_cell": "Table of Contents",
   "title_sidebar": "Contents",
   "toc_cell": true,
   "toc_position": {
    "height": "calc(100% - 180px)",
    "left": "10px",
    "top": "150px",
    "width": "165px"
   },
   "toc_section_display": true,
   "toc_window_display": true
  },
  "varInspector": {
   "cols": {
    "lenName": 16,
    "lenType": 16,
    "lenVar": 40
   },
   "kernels_config": {
    "python": {
     "delete_cmd_postfix": "",
     "delete_cmd_prefix": "del ",
     "library": "var_list.py",
     "varRefreshCmd": "print(var_dic_list())"
    },
    "r": {
     "delete_cmd_postfix": ") ",
     "delete_cmd_prefix": "rm(",
     "library": "var_list.r",
     "varRefreshCmd": "cat(var_dic_list()) "
    }
   },
   "oldHeight": 294.40322199999997,
   "position": {
    "height": "40px",
    "left": "1373.43px",
    "right": "20px",
    "top": "133px",
    "width": "316.181px"
   },
   "types_to_exclude": [
    "module",
    "function",
    "builtin_function_or_method",
    "instance",
    "_Feature"
   ],
   "varInspector_section_display": "none",
   "window_display": true
  }
 },
 "nbformat": 4,
 "nbformat_minor": 2
}
