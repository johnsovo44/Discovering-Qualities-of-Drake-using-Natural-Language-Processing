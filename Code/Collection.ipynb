{
 "cells": [
  {
   "cell_type": "markdown",
   "metadata": {},
   "source": [
    "# Synopsis\n",
    "\n",
    "Drake is one of the most successful rappers of all time. However he is not the best. There is a difference. Drake in many people's eyes is an amazing singer, songwriter, rapper, and the occassional dancer (see: Hotline Bling). Yet, he would bot be compared to the likes of Jay-z, Nas, J.Cole, or Kendrick Lamar. Is Drake considered a hardcore rapper? Is he considered a pop artist? Let's find out by comparing him to those in rap and those in pop. "
   ]
  },
  {
   "cell_type": "markdown",
   "metadata": {},
   "source": [
    "Watch this when you get far in the project: https://www.youtube.com/watch?v=wKW8z6zqCFo"
   ]
  },
  {
   "cell_type": "markdown",
   "metadata": {},
   "source": [
    "# Imports"
   ]
  },
  {
   "cell_type": "code",
   "execution_count": 15,
   "metadata": {},
   "outputs": [],
   "source": [
    "# import necessary libraries\n",
    "import csv # why\n",
    "import re # why\n",
    "from os import open # to open files from jupyter\n",
    "\n",
    "import codecs # why\n",
    "import pandas\n",
    "import requests\n",
    "import pickle as pk\n",
    "import glob \n",
    "import json\n",
    "import time\n",
    "import tqdm as tq\n",
    "\n",
    "# lyricsgenius is not working for some reason. I am going to have to webscrape instead."
   ]
  },
  {
   "cell_type": "markdown",
   "metadata": {},
   "source": [
    "# Webscrapping lyrics"
   ]
  },
  {
   "cell_type": "markdown",
   "metadata": {},
   "source": [
    "https://www.youtube.com/watch?v=OYZEVDIKN8c"
   ]
  },
  {
   "cell_type": "code",
   "execution_count": null,
   "metadata": {},
   "outputs": [],
   "source": []
  }
 ],
 "metadata": {
  "kernelspec": {
   "display_name": "Python 3",
   "language": "python",
   "name": "python3"
  },
  "language_info": {
   "codemirror_mode": {
    "name": "ipython",
    "version": 3
   },
   "file_extension": ".py",
   "mimetype": "text/x-python",
   "name": "python",
   "nbconvert_exporter": "python",
   "pygments_lexer": "ipython3",
   "version": "3.7.1"
  }
 },
 "nbformat": 4,
 "nbformat_minor": 2
}
